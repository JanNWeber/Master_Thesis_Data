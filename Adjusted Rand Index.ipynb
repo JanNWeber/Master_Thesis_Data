{
 "cells": [
  {
   "cell_type": "code",
   "execution_count": null,
   "metadata": {},
   "outputs": [],
   "source": [
    "#Dieses Blatt beschäftigt sich mit dem adjusted Rand Score, einer Möglichkeit, Clusterergebnisse auf ihre Ähnlichkeit zu überprüfen."
   ]
  },
  {
   "cell_type": "code",
   "execution_count": 1,
   "metadata": {},
   "outputs": [],
   "source": [
    "from sklearn.metrics.cluster import adjusted_rand_score\n",
    "import pandas as pd\n",
    "import numpy as np\n",
    "import xarray as xr"
   ]
  },
  {
   "cell_type": "code",
   "execution_count": 101,
   "metadata": {},
   "outputs": [],
   "source": [
    "mjo=pd.read_csv('/Users/weber-j/Documents/Masterarbeit/MJO.csv',sep=';')"
   ]
  },
  {
   "cell_type": "code",
   "execution_count": 102,
   "metadata": {},
   "outputs": [
    {
     "data": {
      "text/html": [
       "<div>\n",
       "<style scoped>\n",
       "    .dataframe tbody tr th:only-of-type {\n",
       "        vertical-align: middle;\n",
       "    }\n",
       "\n",
       "    .dataframe tbody tr th {\n",
       "        vertical-align: top;\n",
       "    }\n",
       "\n",
       "    .dataframe thead th {\n",
       "        text-align: right;\n",
       "    }\n",
       "</style>\n",
       "<table border=\"1\" class=\"dataframe\">\n",
       "  <thead>\n",
       "    <tr style=\"text-align: right;\">\n",
       "      <th></th>\n",
       "      <th>Jahr</th>\n",
       "      <th>Monat</th>\n",
       "      <th>Tag</th>\n",
       "      <th>Phase</th>\n",
       "      <th>Unnamed: 4</th>\n",
       "      <th>Unnamed: 5</th>\n",
       "      <th>Unnamed: 6</th>\n",
       "      <th>Unnamed: 7</th>\n",
       "      <th>Unnamed: 8</th>\n",
       "    </tr>\n",
       "  </thead>\n",
       "  <tbody>\n",
       "    <tr>\n",
       "      <th>60</th>\n",
       "      <td>1980</td>\n",
       "      <td>3</td>\n",
       "      <td>1</td>\n",
       "      <td>3</td>\n",
       "      <td>NaN</td>\n",
       "      <td>NaN</td>\n",
       "      <td>NaN</td>\n",
       "      <td>NaN</td>\n",
       "      <td>NaN</td>\n",
       "    </tr>\n",
       "    <tr>\n",
       "      <th>61</th>\n",
       "      <td>1980</td>\n",
       "      <td>3</td>\n",
       "      <td>2</td>\n",
       "      <td>2</td>\n",
       "      <td>NaN</td>\n",
       "      <td>NaN</td>\n",
       "      <td>NaN</td>\n",
       "      <td>NaN</td>\n",
       "      <td>NaN</td>\n",
       "    </tr>\n",
       "    <tr>\n",
       "      <th>62</th>\n",
       "      <td>1980</td>\n",
       "      <td>3</td>\n",
       "      <td>3</td>\n",
       "      <td>2</td>\n",
       "      <td>NaN</td>\n",
       "      <td>NaN</td>\n",
       "      <td>NaN</td>\n",
       "      <td>NaN</td>\n",
       "      <td>NaN</td>\n",
       "    </tr>\n",
       "    <tr>\n",
       "      <th>63</th>\n",
       "      <td>1980</td>\n",
       "      <td>3</td>\n",
       "      <td>4</td>\n",
       "      <td>3</td>\n",
       "      <td>NaN</td>\n",
       "      <td>NaN</td>\n",
       "      <td>NaN</td>\n",
       "      <td>NaN</td>\n",
       "      <td>NaN</td>\n",
       "    </tr>\n",
       "    <tr>\n",
       "      <th>64</th>\n",
       "      <td>1980</td>\n",
       "      <td>3</td>\n",
       "      <td>5</td>\n",
       "      <td>3</td>\n",
       "      <td>NaN</td>\n",
       "      <td>NaN</td>\n",
       "      <td>NaN</td>\n",
       "      <td>NaN</td>\n",
       "      <td>NaN</td>\n",
       "    </tr>\n",
       "    <tr>\n",
       "      <th>...</th>\n",
       "      <td>...</td>\n",
       "      <td>...</td>\n",
       "      <td>...</td>\n",
       "      <td>...</td>\n",
       "      <td>...</td>\n",
       "      <td>...</td>\n",
       "      <td>...</td>\n",
       "      <td>...</td>\n",
       "      <td>...</td>\n",
       "    </tr>\n",
       "    <tr>\n",
       "      <th>14026</th>\n",
       "      <td>2018</td>\n",
       "      <td>5</td>\n",
       "      <td>27</td>\n",
       "      <td>3</td>\n",
       "      <td>NaN</td>\n",
       "      <td>NaN</td>\n",
       "      <td>NaN</td>\n",
       "      <td>NaN</td>\n",
       "      <td>NaN</td>\n",
       "    </tr>\n",
       "    <tr>\n",
       "      <th>14027</th>\n",
       "      <td>2018</td>\n",
       "      <td>5</td>\n",
       "      <td>28</td>\n",
       "      <td>3</td>\n",
       "      <td>NaN</td>\n",
       "      <td>NaN</td>\n",
       "      <td>NaN</td>\n",
       "      <td>NaN</td>\n",
       "      <td>NaN</td>\n",
       "    </tr>\n",
       "    <tr>\n",
       "      <th>14028</th>\n",
       "      <td>2018</td>\n",
       "      <td>5</td>\n",
       "      <td>29</td>\n",
       "      <td>3</td>\n",
       "      <td>NaN</td>\n",
       "      <td>NaN</td>\n",
       "      <td>NaN</td>\n",
       "      <td>NaN</td>\n",
       "      <td>NaN</td>\n",
       "    </tr>\n",
       "    <tr>\n",
       "      <th>14029</th>\n",
       "      <td>2018</td>\n",
       "      <td>5</td>\n",
       "      <td>30</td>\n",
       "      <td>4</td>\n",
       "      <td>NaN</td>\n",
       "      <td>NaN</td>\n",
       "      <td>NaN</td>\n",
       "      <td>NaN</td>\n",
       "      <td>NaN</td>\n",
       "    </tr>\n",
       "    <tr>\n",
       "      <th>14030</th>\n",
       "      <td>2018</td>\n",
       "      <td>5</td>\n",
       "      <td>31</td>\n",
       "      <td>4</td>\n",
       "      <td>NaN</td>\n",
       "      <td>NaN</td>\n",
       "      <td>NaN</td>\n",
       "      <td>NaN</td>\n",
       "      <td>NaN</td>\n",
       "    </tr>\n",
       "  </tbody>\n",
       "</table>\n",
       "<p>3588 rows × 9 columns</p>\n",
       "</div>"
      ],
      "text/plain": [
       "       Jahr  Monat  Tag  Phase  Unnamed: 4  Unnamed: 5  Unnamed: 6  \\\n",
       "60     1980      3    1      3         NaN         NaN         NaN   \n",
       "61     1980      3    2      2         NaN         NaN         NaN   \n",
       "62     1980      3    3      2         NaN         NaN         NaN   \n",
       "63     1980      3    4      3         NaN         NaN         NaN   \n",
       "64     1980      3    5      3         NaN         NaN         NaN   \n",
       "...     ...    ...  ...    ...         ...         ...         ...   \n",
       "14026  2018      5   27      3         NaN         NaN         NaN   \n",
       "14027  2018      5   28      3         NaN         NaN         NaN   \n",
       "14028  2018      5   29      3         NaN         NaN         NaN   \n",
       "14029  2018      5   30      4         NaN         NaN         NaN   \n",
       "14030  2018      5   31      4         NaN         NaN         NaN   \n",
       "\n",
       "       Unnamed: 7  Unnamed: 8  \n",
       "60            NaN         NaN  \n",
       "61            NaN         NaN  \n",
       "62            NaN         NaN  \n",
       "63            NaN         NaN  \n",
       "64            NaN         NaN  \n",
       "...           ...         ...  \n",
       "14026         NaN         NaN  \n",
       "14027         NaN         NaN  \n",
       "14028         NaN         NaN  \n",
       "14029         NaN         NaN  \n",
       "14030         NaN         NaN  \n",
       "\n",
       "[3588 rows x 9 columns]"
      ]
     },
     "execution_count": 102,
     "metadata": {},
     "output_type": "execute_result"
    }
   ],
   "source": [
    "mjo=mjo.drop(mjo[mjo.Jahr > 2018].index)\n",
    "mjo=mjo.drop(mjo[mjo.Monat > 5].index)\n",
    "mjo=mjo.drop(mjo[mjo.Monat < 3].index)\n",
    "mjo"
   ]
  },
  {
   "cell_type": "code",
   "execution_count": 103,
   "metadata": {},
   "outputs": [
    {
     "data": {
      "text/plain": [
       "3588"
      ]
     },
     "execution_count": 103,
     "metadata": {},
     "output_type": "execute_result"
    }
   ],
   "source": [
    "len(mjo.Jahr)"
   ]
  },
  {
   "cell_type": "code",
   "execution_count": 110,
   "metadata": {},
   "outputs": [
    {
     "name": "stdout",
     "output_type": "stream",
     "text": [
      "0.012616749944756967\n",
      "0.010907287233331574\n",
      "0.011227303908639123\n",
      "0.01233195346323633\n",
      "0.012291942651554857\n",
      "0.012067577730080414\n",
      "0.01228341186183414\n",
      "0.012009874383769747\n",
      "0.011721630900076324\n",
      "0.011769232149201211\n",
      "0.01090043146495675\n",
      "0.010209791659614468\n",
      "0.009358084491548147\n",
      "0.009342500230049214\n",
      "0.009124619932867723\n"
     ]
    }
   ],
   "source": [
    "#Vergleich der Madden-Julian Oszillation mit den Niederschlagsclustern\n",
    "\n",
    "heder=('Jahr','Monat','Tag','Stunde','Cluster')\n",
    "gdf=pd.read_csv('/Users/weber-j/Documents/Masterarbeit/MJO.csv',sep=';')\n",
    "gd=pd.read_table('/Users/weber-j/Documents/Cluster-Ergebnisse/em_cla_v85.dat',sep=';',index_col=None,names=heder)  #tp\n",
    "gdf=gdf.drop(gdf[gdf.Jahr > 2018].index)\n",
    "gdf=gdf.drop(gdf[gdf.Monat > 5].index)\n",
    "gdf=gdf.drop(gdf[gdf.Monat < 3].index)\n",
    "\n",
    "#Zeitverschiebung von 0 bis 14 Tage\n",
    "for Zv in range (0,15):\n",
    "    gdf=gdf.drop(gdf[(gdf.Tag > (31-Zv)) & (gdf.Monat == 5)].index)\n",
    "    gd=gd.drop(gd[(gd.Tag < (Zv+1)) & (gd.Monat == 3)].index)\n",
    "    print(adjusted_rand_score(gd.Cluster,gdf.Phase))"
   ]
  },
  {
   "cell_type": "code",
   "execution_count": 10,
   "metadata": {},
   "outputs": [
    {
     "name": "stdout",
     "output_type": "stream",
     "text": [
      "0.1165256990596825\n",
      "0.11608719540264288\n",
      "0.10992575062905545\n",
      "0.09862750941137212\n",
      "0.0896559147257193\n",
      "0.08417885346300918\n",
      "0.07786669775678114\n",
      "0.07268492678426505\n",
      "0.07120435143266331\n",
      "0.07119922483443551\n",
      "0.06810977293583453\n",
      "0.06862121599330684\n",
      "0.06270706311904119\n",
      "0.057986429497187394\n",
      "0.05555460964858719\n"
     ]
    }
   ],
   "source": [
    "#Vergleich der Prädiktorvariablen-Clustern mit den tp-Clustern (mit ERA5), eine Übersicht über die einzelnen Dateien der\n",
    "# Clusteranalyse ist in Übersicht.xlsx gegeben\n",
    "\n",
    "heder=('Jahr','Monat','Tag','Stunde','Cluster')\n",
    "gdf=pd.read_csv('/Users/weber-j/Documents/Cluster-Ergebnisse/em_cla_v122.dat',sep=';',index_col=None,names=heder)   #Variable\n",
    "gd=pd.read_table('/Users/weber-j/Documents/Cluster-Ergebnisse/em_cla_v106.dat',sep=';',index_col=None,names=heder)  #tp\n",
    "#tp-Cluster: 85,73,77,74,78,79,75,76,89    #106\n",
    "#SST: 111, wr900: 122\n",
    "\n",
    "gdf=gdf.drop(gdf[gdf.Jahr < 1980].index)\n",
    "\n",
    "#Zeitverschiebung von 0 bis 14 Tage\n",
    "for Zv in range (0,15):\n",
    "    gdf=gdf.drop(gdf[(gdf.Tag > (31-Zv)) & (gdf.Monat == 5)].index)\n",
    "    gd=gd.drop(gd[(gd.Tag < (Zv+1)) & (gd.Monat == 3)].index)\n",
    "    print(adjusted_rand_score(gd.Cluster,gdf.Cluster))"
   ]
  },
  {
   "cell_type": "code",
   "execution_count": null,
   "metadata": {},
   "outputs": [],
   "source": [
    "adjusted_rand_score(gd.Cluster,gdf.Cluster)"
   ]
  },
  {
   "cell_type": "code",
   "execution_count": 5,
   "metadata": {},
   "outputs": [
    {
     "name": "stdout",
     "output_type": "stream",
     "text": [
      "0.046446968906507936\n",
      "0.04891647847967735\n",
      "0.04617492662797642\n",
      "0.03918006903551051\n",
      "0.033253005031134236\n",
      "0.03060336942866158\n",
      "0.029899983869834883\n",
      "0.030395233096182743\n",
      "0.027901697288917126\n",
      "0.023773611453189087\n",
      "0.023940351069627025\n",
      "0.022045611351992296\n",
      "0.018735684315921798\n",
      "0.015014269366950501\n",
      "0.012662766918783066\n"
     ]
    }
   ],
   "source": [
    "#Für ERA Interim dasselbe (Hatte erst mit ERA-Interim-Daten angefangen zu arbeiten, dies aber wieder verworfen)\n",
    "heder=('Jahr','Monat','Tag','Stunde','Cluster')\n",
    "gdf=pd.read_csv('/Users/weber-j/Documents/Cluster-Ergebnisse/em_cla_v49.dat',sep=';',index_col=None,names=heder)   #Variable\n",
    "gd=pd.read_table('/Users/weber-j/Documents/Cluster-Ergebnisse/em_cla_v77.dat',sep=';',index_col=None,names=heder)  #tp\n",
    "gd=gd.drop(gd[gd.Jahr < 1982].index)\n",
    "for Zv in range (0,15): \n",
    "    gdf=gdf.drop(gdf[(gdf.Tag > (31-Zv)) & (gdf.Monat == 5)].index)\n",
    "    gd=gd.drop(gd[(gd.Tag < (Zv+1)) & (gd.Monat == 3)].index)\n",
    "    print(adjusted_rand_score(gd.Cluster,gdf.Cluster))"
   ]
  },
  {
   "cell_type": "code",
   "execution_count": 89,
   "metadata": {},
   "outputs": [
    {
     "name": "stdout",
     "output_type": "stream",
     "text": [
      "0.00011928970130216485\n",
      "0.0011025624820605313\n",
      "0.00010925284778126388\n",
      "0.00021069652731416793\n",
      "0.0003614770884387029\n",
      "0.0002615256171194525\n",
      "-0.00018919353133075233\n",
      "-0.0005276123793492111\n",
      "-0.0001672784623581637\n",
      "-6.962394627392897e-05\n",
      "-0.00018846022406824843\n",
      "1.5305677598031002e-05\n",
      "-0.00043151437935057334\n",
      "0.0003540994347873615\n",
      "0.00025010994261133083\n",
      "0.0007021854080018896\n",
      "0.0001981253412131735\n",
      "-0.00021815974833284266\n",
      "4.8692853784152204e-05\n",
      "-0.00038059591521747316\n"
     ]
    }
   ],
   "source": [
    "#Test mit einem random generierten Feld\n",
    "\n",
    "hk=[]\n",
    "ihdgeg=[]\n",
    "r=39*92\n",
    "for k in range (0,20):\n",
    "    hk=[]\n",
    "    ihdgeg=[]\n",
    "    for i in range (0,r):\n",
    "        hk.append(int(np.random.random([1])*10))\n",
    "        ihdgeg.append(int(np.random.random([1])*10))\n",
    "    print(adjusted_rand_score(hk,ihdgeg))"
   ]
  },
  {
   "cell_type": "code",
   "execution_count": 100,
   "metadata": {},
   "outputs": [
    {
     "data": {
      "text/plain": [
       "0.2011173184357542"
      ]
     },
     "execution_count": 100,
     "metadata": {},
     "output_type": "execute_result"
    }
   ],
   "source": [
    "hk=[7,6,5,4,3,2,1,1,2,3,4,5,6,7]\n",
    "kk=[1,6,3,4,5,6,7,1,2,3,4,5,6,7]\n",
    "adjusted_rand_score(hk,kk)"
   ]
  },
  {
   "cell_type": "code",
   "execution_count": null,
   "metadata": {},
   "outputs": [],
   "source": []
  }
 ],
 "metadata": {
  "kernelspec": {
   "display_name": "Python 3",
   "language": "python",
   "name": "python3"
  },
  "language_info": {
   "codemirror_mode": {
    "name": "ipython",
    "version": 3
   },
   "file_extension": ".py",
   "mimetype": "text/x-python",
   "name": "python",
   "nbconvert_exporter": "python",
   "pygments_lexer": "ipython3",
   "version": "3.7.9"
  }
 },
 "nbformat": 4,
 "nbformat_minor": 4
}
